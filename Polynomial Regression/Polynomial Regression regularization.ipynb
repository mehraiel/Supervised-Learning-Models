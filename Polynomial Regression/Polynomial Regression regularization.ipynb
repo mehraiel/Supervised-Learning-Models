{
 "cells": [
  {
   "cell_type": "markdown",
   "metadata": {
    "id": "eyjewtSBMA95"
   },
   "source": [
    "# Testing and regularization"
   ]
  },
  {
   "cell_type": "markdown",
   "metadata": {
    "id": "LzJ2tMw5OJR-"
   },
   "source": [
    "- x(-1,1) : don't know how many rows so  size/1 = 40\n",
    "- x(-1,2) : don't know how many rows so  size/2 = 20 \n",
    "- x1**2,x2**2,x1*x2,x1,x2 = interaction True \n",
    "- x1*x2,x1,x2 = interaction false "
   ]
  },
  {
   "cell_type": "code",
   "execution_count": null,
   "metadata": {
    "id": "YpX56PtFMA-A"
   },
   "outputs": [],
   "source": [
    "import pandas as pd\n",
    "import numpy as np\n",
    "import random\n",
    "import matplotlib.pyplot as plt\n",
    "random.seed(0)"
   ]
  },
  {
   "cell_type": "markdown",
   "metadata": {
    "id": "WBD0ZY2wMA-B"
   },
   "source": [
    "## Defining our dataset"
   ]
  },
  {
   "cell_type": "code",
   "execution_count": null,
   "metadata": {
    "colab": {
     "base_uri": "https://localhost:8080/",
     "height": 269
    },
    "id": "4sDgbZNRMA-C",
    "outputId": "0e3f0f0d-c025-4ea7-9ca6-b7cf17107816"
   },
   "outputs": [
    {
     "data": {
      "image/png": "[encoded data removed]",
      "text/plain": [
       "<Figure size 432x288 with 1 Axes>"
      ]
     },
     "metadata": {
      "needs_background": "light"
     },
     "output_type": "display_data"
    }
   ],
   "source": [
    "# Our original polynomial is -x^2+x+15\n",
    "coefs = [15,1,-1]\n",
    "\n",
    "def polynomial(coefs, x):\n",
    "    n = len(coefs)\n",
    "    return sum([coefs[i]*x**i for i in range(n)])\n",
    "\n",
    "def draw_polynomial(coefs):\n",
    "    n = len(coefs)\n",
    "    x = np.linspace(-5, 5, 1000)\n",
    "    plt.ylim(-20,20)\n",
    "    plt.plot(x, sum([coefs[i]*x**i for i in range(n)]), linestyle='-', color='black')\n",
    "\n",
    "draw_polynomial(coefs)"
   ]
  },
  {
   "cell_type": "code",
   "execution_count": null,
   "metadata": {
    "id": "WvGqHRFCMA-E"
   },
   "outputs": [],
   "source": [
    "X = []\n",
    "Y = []\n",
    "for i in range(40):\n",
    "    x = random.uniform(-5,5)\n",
    "    y = polynomial(coefs, x) + random.gauss(0,2)\n",
    "    X.append(x)\n",
    "    Y.append(y)\n",
    "X=np.array(X)\n",
    "Y=np.array(Y)"
   ]
  },
  {
   "cell_type": "code",
   "execution_count": null,
   "metadata": {
    "colab": {
     "base_uri": "https://localhost:8080/",
     "height": 282
    },
    "id": "ETQxgGiFMA-E",
    "outputId": "32f9050c-5d90-492c-845d-63d0e8fb1d4b"
   },
   "outputs": [
    {
     "data": {
      "text/plain": [
       "<matplotlib.collections.PathCollection at 0x7f54285dd290>"
      ]
     },
     "execution_count": 5,
     "metadata": {},
     "output_type": "execute_result"
    },
    {
     "data": {
      "image/png": "[encoded data removed]",
      "text/plain": [
       "<Figure size 432x288 with 1 Axes>"
      ]
     },
     "metadata": {
      "needs_background": "light"
     },
     "output_type": "display_data"
    }
   ],
   "source": [
    "plt.scatter(X, Y)\n",
    "#draw_polynomial(coefs)"
   ]
  },
  {
   "cell_type": "markdown",
   "metadata": {
    "id": "wLUfmV9iMA-F"
   },
   "source": [
    "## Training a polynomial regression model"
   ]
  },
  {
   "cell_type": "code",
   "execution_count": null,
   "metadata": {
    "colab": {
     "base_uri": "https://localhost:8080/"
    },
    "id": "xsNmJ6hoGPjb",
    "outputId": "106d901e-206f-4be4-ae0f-f235a0b168c7"
   },
   "outputs": [
    {
     "name": "stdout",
     "output_type": "stream",
     "text": [
      "(3.4442185152504816, 6.685961311021467)\n",
      "(-2.4108324970703663, 4.690236225597948)\n",
      "(0.11274721368608542, 12.205789026637378)\n",
      "(-1.9668727392107255, 11.133217991032268)\n",
      "(-0.23403045847644144, 10.927272159051856)\n",
      "(0.046868558173902564, 12.8584762866286)\n",
      "(-2.1816215560029617, 8.16012255928749)\n",
      "(-2.4949365863755943, 3.5061587527226514)\n",
      "(4.097462559682402, 5.933186396721837)\n",
      "(4.021659504395828, 2.454299054753137)\n",
      "(-1.8985243068066735, 8.956020414039855)\n",
      "(1.8398393191544127, 9.208004401915796)\n",
      "(-0.2785728454728664, 16.36505651355184)\n",
      "(1.1088697344380165, 16.14144978027318)\n",
      "(4.130110532378982, 4.299534274468492)\n",
      "(3.6530992777164, 4.83366913200435)\n",
      "(-2.395076896080406, 7.723543125251446)\n",
      "(-4.8595829983598104, -15.848718674227753)\n",
      "(2.1970468640395415, 9.366124268570305)\n",
      "(1.6815320123185087, 16.070558182542374)\n",
      "(-4.988571806855717, -18.893035332565795)\n",
      "(-2.5608912311286804, 6.043189895391749)\n",
      "(-1.7479563725260991, 11.091071520573042)\n",
      "(0.6751074062067186, 14.272553413210698)\n",
      "(-2.6138407138477984, 9.085321805751548)\n",
      "(-0.5203042856442961, 13.47860807272069)\n",
      "(-4.195541814474646, -7.812998091307244)\n",
      "(4.3283382422690675, 2.748647759010411)\n",
      "(-3.909421540688963, -7.163796336350065)\n",
      "(0.4744091132842376, 14.257854146830486)\n",
      "(3.14466863291336, 3.2664703661537313)\n",
      "(1.0318562796138302, 13.67662422703284)\n",
      "(0.8761706417543635, 12.57404063707232)\n",
      "(-1.1509885402733957, 13.436894195835206)\n",
      "(0.7565101416488851, 14.859288476607356)\n",
      "(-3.132704717444449, 3.3081236367340967)\n",
      "(1.1277317986860673, 13.596584816754236)\n",
      "(-4.1017563880440635, -7.821475002235993)\n",
      "(2.576039219664368, 14.181083579723474)\n",
      "(3.424602231401824, 3.5269925176080537)\n"
     ]
    }
   ],
   "source": [
    "for datasample in zip(X,Y):\n",
    "    print(datasample)"
   ]
  },
  {
   "cell_type": "markdown",
   "metadata": {
    "id": "Pze2ZphQMA-G"
   },
   "source": [
    "### Adding columns to our dataset corresponding to $x^2, x^3, \\ldots, x^{200}$"
   ]
  },
  {
   "cell_type": "code",
   "execution_count": null,
   "metadata": {
    "id": "c2XZgASOGfVv"
   },
   "outputs": [],
   "source": [
    "from sklearn.preprocessing import PolynomialFeatures\n",
    "def addPoly(X,polyDegree):\n",
    "    ## TODO ##\n",
    "    #use sklearn (PolynomialFeatures method)\n",
    "    X = X.reshape(-1,1)\n",
    "    equation = PolynomialFeatures(degree=200, include_bias=False)\n",
    "    X = equation.fit_transform(X)\n",
    "\n",
    "    return X\n",
    "X_poly=addPoly(X,200)"
   ]
  },
  {
   "cell_type": "code",
   "execution_count": null,
   "metadata": {
    "colab": {
     "base_uri": "https://localhost:8080/"
    },
    "id": "kKXdyM7fGzLC",
    "outputId": "0b72a6c4-58ae-43ad-9067-c249aefa274b"
   },
   "outputs": [
    {
     "name": "stdout",
     "output_type": "stream",
     "text": [
      "(40, 200)\n",
      "[3.44421852e+000 1.18626412e+001 4.08575284e+001 1.40722256e+002\n",
      " 4.84678199e+002 1.66933763e+003 5.74956356e+003 1.98027533e+004\n",
      " 6.82050095e+004 2.34912956e+005 8.09091554e+005 2.78668811e+006\n",
      " 9.59796279e+006 3.30574811e+007 1.13857189e+008 3.92149037e+008\n",
      " 1.35064697e+009 4.65192332e+009 1.60222404e+010 5.51840971e+010\n",
      " 1.90066089e+011 6.54629143e+011 2.25468581e+012 7.76563063e+012\n",
      " 2.67465288e+013 9.21208897e+013 3.17284474e+014 1.09279706e+015\n",
      " 3.76383187e+015 1.29634594e+016 4.46489869e+016 1.53780867e+017\n",
      " 5.29654911e+017 1.82424725e+018 6.28310616e+018 2.16403906e+019\n",
      " 7.45342338e+019 2.56712188e+020 8.84172871e+020 3.04528457e+021\n",
      " 1.04886255e+022 3.61251182e+022 1.24422801e+023 4.28539315e+023\n",
      " 1.47598304e+024 5.08360812e+024 1.75090572e+025 6.03050191e+025\n",
      " 2.07703663e+026 7.15376803e+026 2.46391403e+027 8.48625832e+027\n",
      " 2.92285280e+028 1.00669437e+029 3.46727540e+029 1.19420541e+030\n",
      " 4.11310440e+030 1.41664303e+031 4.87922816e+031 1.68051280e+032\n",
      " 5.78805329e+032 1.99353203e+033 6.86615993e+033 2.36485552e+034\n",
      " 8.14507916e+034 2.80534324e+035 9.66221514e+035 3.32787803e+036\n",
      " 1.14619391e+037 3.94774230e+037 1.35968871e+038 4.68306503e+038\n",
      " 1.61294993e+039 5.55535201e+039 1.91338463e+040 6.59011475e+040\n",
      " 2.26977953e+041 7.81761667e+041 2.69255801e+042 9.27375814e+042\n",
      " 3.19408495e+043 1.10011265e+044 3.78902837e+044 1.30502417e+045\n",
      " 4.49478839e+045 1.54810334e+046 5.33200619e+046 1.83645944e+047\n",
      " 6.32516762e+047 2.17852594e+048 7.50331939e+048 2.58430716e+049\n",
      " 8.90091855e+049 3.06567085e+050 1.05588403e+051 3.63669533e+051\n",
      " 1.25255734e+052 4.31408117e+052 1.48586383e+053 5.11763970e+053\n",
      " 1.76262694e+054 6.07087234e+054 2.09094109e+055 7.20165803e+055\n",
      " 2.48040839e+056 8.54306851e+056 2.94241947e+057 1.01343356e+058\n",
      " 3.49048664e+058 1.20219987e+059 4.14063906e+059 1.42612657e+060\n",
      " 4.91189154e+060 1.69176278e+061 5.82680069e+061 2.00687748e+062\n",
      " 6.91212458e+062 2.38068674e+063 8.19960536e+063 2.82412326e+064\n",
      " 9.72689763e+064 3.35015609e+065 1.15386696e+066 3.97416996e+066\n",
      " 1.36879098e+067 4.71441522e+067 1.62374762e+068 5.59254162e+068\n",
      " 1.92619354e+069 6.63423145e+069 2.28497428e+070 7.86995072e+070\n",
      " 2.71058300e+071 9.33584015e+071 3.21546735e+072 1.10747722e+073\n",
      " 3.81439354e+073 1.31376049e+074 4.52487819e+074 1.55846692e+075\n",
      " 5.36770063e+075 1.84875339e+076 6.36751066e+076 2.19310981e+077\n",
      " 7.55354941e+077 2.60160747e+078 8.96050463e+078 3.08619360e+079\n",
      " 1.06295251e+080 3.66104073e+080 1.26094243e+081 4.34296125e+081\n",
      " 1.49581075e+082 5.15189909e+082 1.77442662e+083 6.11151303e+083\n",
      " 2.10493864e+084 7.24986862e+084 2.49701317e+085 8.60025901e+085\n",
      " 2.96211713e+086 1.02021787e+087 3.51385326e+087 1.21024785e+088\n",
      " 4.16835804e+088 1.43567360e+089 4.94477358e+089 1.70308807e+090\n",
      " 5.86580747e+090 2.02031227e+091 6.95839692e+091 2.39662395e+092\n",
      " 8.25449659e+092 2.84302900e+093 9.79201312e+093 3.37258329e+094\n",
      " 1.16159138e+095 4.00077454e+095 1.37795417e+096 4.74597528e+096\n",
      " 1.63461759e+097 5.62998018e+097 1.93908820e+098 6.67864348e+098\n",
      " 2.30027075e+099 7.92263511e+099 2.72872865e+100 9.39833775e+100\n",
      " 3.23699289e+101 1.11489108e+102 3.83992852e+102 1.32255529e+103\n",
      " 4.55516942e+103 1.56889988e+104 5.40363403e+104 1.86112964e+105\n",
      " 6.41013716e+105 2.20779131e+106 7.60411570e+106 2.61902361e+107]\n"
     ]
    }
   ],
   "source": [
    "print(X_poly.shape)\n",
    "print(X_poly[0,:])\n",
    "#40*200"
   ]
  },
  {
   "cell_type": "markdown",
   "metadata": {
    "id": "S8uYLISVMA-H"
   },
   "source": [
    "## Splitting data into training and testing"
   ]
  },
  {
   "cell_type": "code",
   "execution_count": null,
   "metadata": {
    "id": "fVnfiOyqMNLg"
   },
   "outputs": [],
   "source": [
    "from sklearn.model_selection import train_test_split\n",
    "## TODO ##\n",
    "# use sklearn (train_test_split) to split data to 80% training 20% testing\n",
    "X_train, X_test, y_train, y_test = train_test_split(X_poly,Y,test_size=0.2)"
   ]
  },
  {
   "cell_type": "code",
   "execution_count": null,
   "metadata": {
    "colab": {
     "base_uri": "https://localhost:8080/"
    },
    "id": "bg7LDEAQVDwu",
    "outputId": "6bba8d12-09a4-4e31-87bb-e1994344df19"
   },
   "outputs": [
    {
     "data": {
      "text/plain": [
       "(32, 200)"
      ]
     },
     "execution_count": 60,
     "metadata": {},
     "output_type": "execute_result"
    }
   ],
   "source": [
    "X_train.shape"
   ]
  },
  {
   "cell_type": "code",
   "execution_count": null,
   "metadata": {
    "colab": {
     "base_uri": "https://localhost:8080/"
    },
    "id": "51IvjTBIXyQL",
    "outputId": "90d1d098-c7b7-455f-c47d-20bc22326568"
   },
   "outputs": [
    {
     "data": {
      "text/plain": [
       "(32,)"
      ]
     },
     "execution_count": 61,
     "metadata": {},
     "output_type": "execute_result"
    }
   ],
   "source": [
    "y_train.shape"
   ]
  },
  {
   "cell_type": "code",
   "execution_count": null,
   "metadata": {
    "id": "WmHYknzXMA-I"
   },
   "outputs": [],
   "source": [
    "from sklearn.metrics import mean_squared_error\n",
    "def display_results(model):\n",
    "    coefs = [model.intercept_]\n",
    "    coefs += list(model.coef_)\n",
    "    ytrain_predict=model.predict(X_train)\n",
    "    ytest_predict=model.predict(X_test)\n",
    "    train_error=np.sqrt(mean_squared_error(y_train,ytrain_predict))\n",
    "    test_error=np.sqrt(mean_squared_error(y_test,ytest_predict))\n",
    "    print(\"Training error (rmse):\", train_error)\n",
    "    print(\"Testing error (rmse):\", test_error)\n",
    "    plt.scatter(X_train[:,0], y_train, marker='o')\n",
    "    plt.scatter(X_test[:,0], y_test, marker='^')\n",
    "    draw_polynomial(coefs)\n",
    "    plt.show()\n",
    "    print(\"Polynomial coefficients\")\n",
    "    print(coefs)"
   ]
  },
  {
   "cell_type": "markdown",
   "metadata": {
    "id": "G9x4Q5S3MA-I"
   },
   "source": [
    "## Training a polynomial regression model with no regularization"
   ]
  },
  {
   "cell_type": "code",
   "execution_count": null,
   "metadata": {
    "colab": {
     "base_uri": "https://localhost:8080/"
    },
    "id": "QKm7sV7JMA-J",
    "outputId": "d3a68c01-a3ec-4037-db11-344d2971049b"
   },
   "outputs": [
    {
     "name": "stderr",
     "output_type": "stream",
     "text": [
      "/usr/local/lib/python3.7/dist-packages/sklearn/linear_model/_base.py:145: FutureWarning: 'normalize' was deprecated in version 1.0 and will be removed in 1.2.\n",
      "If you wish to scale the data, use Pipeline with a StandardScaler in a preprocessing stage. To reproduce the previous behavior:\n",
      "\n",
      "from sklearn.pipeline import make_pipeline\n",
      "\n",
      "model = make_pipeline(StandardScaler(with_mean=False), LinearRegression())\n",
      "\n",
      "If you wish to pass a sample_weight parameter, you need to pass it as a fit parameter to each step of the pipeline as follows:\n",
      "\n",
      "kwargs = {s[0] + '__sample_weight': sample_weight for s in model.steps}\n",
      "model.fit(X, y, **kwargs)\n",
      "\n",
      "\n",
      "  FutureWarning,\n"
     ]
    }
   ],
   "source": [
    "from locale import normalize\n",
    "import sklearn\n",
    "from sklearn.linear_model import LinearRegression\n",
    "## TODO ##\n",
    "# use sklearn linear regression to fit the data \n",
    "# normalization trick ;)\n",
    "\n",
    "model_no_reg = LinearRegression(normalize=True).fit(X_train,y_train)"
   ]
  },
  {
   "cell_type": "code",
   "execution_count": null,
   "metadata": {
    "colab": {
     "base_uri": "https://localhost:8080/",
     "height": 358
    },
    "id": "uje8MamakgwD",
    "outputId": "bdb7a9df-e453-4aed-af3b-3ee1e91c629e"
   },
   "outputs": [
    {
     "name": "stdout",
     "output_type": "stream",
     "text": [
      "Training error (rmse): 0.4121883653524476\n",
      "Testing error (rmse): 1205453346.85733\n"
     ]
    },
    {
     "data": {
      "image/png": "[encoded data removed]",
      "text/plain": [
       "<Figure size 432x288 with 1 Axes>"
      ]
     },
     "metadata": {
      "needs_background": "light"
     },
     "output_type": "display_data"
    },
    {
     "name": "stdout",
     "output_type": "stream",
     "text": [
      "Polynomial coefficients\n",
      "[10.11211608703576, 34.37989189259669, 10.440081308546098, -688.6000207157404, 1005.3539205494303, 2719.652326515194, -5708.755521971975, -2313.415508969753, 9261.77441785749, -426.63304881934556, -7053.5718972942395, 1406.9993199710855, 3009.4050179119745, -769.5304312478561, -772.3172830499026, 205.74725388900512, 120.57981882594987, -30.01160816670918, -10.8734101039746, 2.2336972727617006, 0.46108182426648453, -0.05026263538338457, 0.00022712031285422287, -0.002499937805196229, -0.00047030957517793097, 4.834920815971905e-05, -6.533326589688786e-06, 4.512237588632364e-06, 3.235792316948198e-07, 9.063679275730363e-08, 1.7489178503179488e-08, -2.1430771416976014e-09, 3.496150169266601e-10, -2.2598130512293884e-10, -3.1423560229004727e-12, -9.356562200245579e-12, -5.398294202997729e-13, -2.415482240787953e-13, -2.53753137650868e-14, -2.2934914986564818e-15, -8.25305839913755e-16, 1.7537620820542025e-16, -1.9459981452055255e-17, 1.4499229470389007e-17, -2.2200684236708546e-19, 7.354616376297681e-19, 9.764833497558155e-21, 3.088249922876214e-20, 9.555278779908698e-22, 1.1574427251751052e-21, 5.391881447693288e-23, 4.0057961997585834e-23, 2.562092572516472e-24, 1.297860746431004e-24, 1.1339855213380093e-25, 3.9351740835883484e-26, 4.77638605714567e-27, 1.1067525202788956e-27, 1.9543824585383066e-28, 2.801127366772722e-29, 7.860792692910615e-30, 5.7528873808216244e-31, 3.1079966920764604e-31, 5.877020428037901e-33, 1.2202246980596741e-32, -3.103813846290105e-34, 4.765930074419133e-34, -2.8673874545086357e-35, 1.8429868339521232e-35, -1.6102287476053454e-36, 7.08124600166226e-37, -7.721057607433175e-38, 2.7067608061664944e-38, -3.4100046199947127e-39, 1.0306848445453193e-39, -1.4385343758308424e-40, 3.9147696290792774e-41, -5.833707204598094e-42, 1.475266591561422e-42, -2.331276162712716e-43, 5.550217350285221e-44, -9.176529450756933e-45, 2.074353164830089e-45, -3.533498550606342e-46, 7.764541212491956e-47, -1.3535809451371023e-47, 2.9004267541808706e-48, -5.124104128034471e-49, 1.0737586324576106e-49, -1.9231296253085086e-50, 3.962402112848837e-51, -7.249648699177882e-52, 1.4662025305013949e-52, -2.673681017851968e-53, 5.369764013509134e-54, -9.927334352669725e-55, 1.969161594399563e-55, -3.6471314698188237e-56, 7.130470417447647e-57, -1.326422008181705e-57, 2.5586320436109013e-58, -4.817232770201187e-59, 9.33013114262237e-60, -1.720883514616995e-60, 3.324549018302519e-61, -6.222982048331293e-62, 1.1806688297108692e-62, -2.1748335757508066e-63, 4.131778872709518e-64, -7.5552880220595535e-65, 1.4381039548240485e-65, -2.62692046190402e-66, 4.854422770301889e-67, -8.74038120229399e-68, 1.6090212739021068e-68, -2.8985191159193257e-69, 5.148598051298613e-70, -9.30721204640495e-71, 1.609350752883517e-71, -2.7396550845258077e-72, 4.399051275953591e-73, -6.952450306515986e-74, 1.1081105361141626e-74, -1.3679883755056003e-75, 1.8130518729043457e-76, -4.3023648660786095e-78, -1.5056333243222643e-78, 1.607628110556952e-78, -5.427457465356404e-79, 1.4178524239342336e-79, -3.6229780470487845e-80, 8.878619172510585e-81, -2.0638561093454269e-81, 4.7616827879603057e-82, -1.0482450003820915e-82, 2.3006143210669752e-83, -5.011317780864392e-84, 1.08356975882412e-84, -2.3593419663706182e-85, 4.998624605867091e-86, -1.0633489079307887e-86, 2.2561018448963554e-87, -4.6493993036871754e-88, 9.652074727887874e-89, -2.0692151720521477e-89, 4.278201674148817e-90, -9.06638257676191e-91, 1.876549947111603e-91, -3.89746738744561e-92, 7.96209320991131e-93, -1.6395644647843473e-93, 3.376061539206084e-94, -7.024859516922135e-95, 1.446090344733179e-95, -2.952460075342255e-96, 6.104513806305907e-97, -1.253182489237743e-97, 2.5590432774611833e-98, -5.146006497094816e-99, 1.061601589844051e-99, -2.1872111360872248e-100, 4.427256503963761e-101, -8.944375433108642e-102, 1.838898404626144e-102, -3.73510327083649e-103, 7.64587374129421e-104, -1.532210493511505e-104, 3.1312703412037593e-105, -6.351096166943201e-106, 1.2819018084723954e-106, -2.616218549915055e-107, 5.323249649891859e-108, -1.0878764859298888e-108, 2.1628038738149756e-109, -4.467919865731789e-110, 8.858486161856438e-111, -1.8134994514987953e-111, 3.6527365971098097e-112, -7.420855990321839e-113, 1.495460445584587e-113, -3.081530937534466e-114, 6.169074387899938e-115, -1.2348125582935256e-115, 2.5129858390448948e-116, -5.052186454324542e-117, 1.0197357921496769e-117, -2.0436792228320024e-118, 4.1341451717517717e-119, -8.355526367628713e-120, 1.6947983923935682e-120, -3.4284302831430347e-121, 6.857565492754659e-122, -1.3867438070889283e-122, 2.7995148788624006e-123, -5.615310911531079e-124, 1.1300092735909269e-124, -2.271262366676644e-125, 4.5970354021545054e-126, -9.23227756943264e-127, 1.868358587452564e-127, -3.779638770655345e-128]\n"
     ]
    }
   ],
   "source": [
    "display_results(model_no_reg)"
   ]
  },
  {
   "cell_type": "markdown",
   "metadata": {
    "id": "TLTU-3ojMA-J"
   },
   "source": [
    "## Training a polynomial regression model with L1 regularization\n",
    "lasso"
   ]
  },
  {
   "cell_type": "code",
   "execution_count": null,
   "metadata": {
    "colab": {
     "base_uri": "https://localhost:8080/"
    },
    "id": "sBfyPNvMMA-J",
    "outputId": "79aa84d8-7c1d-4811-c088-ae463c680ab1"
   },
   "outputs": [
    {
     "name": "stderr",
     "output_type": "stream",
     "text": [
      "/usr/local/lib/python3.7/dist-packages/sklearn/linear_model/_base.py:145: FutureWarning: 'normalize' was deprecated in version 1.0 and will be removed in 1.2.\n",
      "If you wish to scale the data, use Pipeline with a StandardScaler in a preprocessing stage. To reproduce the previous behavior:\n",
      "\n",
      "from sklearn.pipeline import make_pipeline\n",
      "\n",
      "model = make_pipeline(StandardScaler(with_mean=False), Lasso())\n",
      "\n",
      "If you wish to pass a sample_weight parameter, you need to pass it as a fit parameter to each step of the pipeline as follows:\n",
      "\n",
      "kwargs = {s[0] + '__sample_weight': sample_weight for s in model.steps}\n",
      "model.fit(X, y, **kwargs)\n",
      "\n",
      "Set parameter alpha to: original_alpha * np.sqrt(n_samples). \n",
      "  FutureWarning,\n"
     ]
    }
   ],
   "source": [
    "from sklearn import linear_model\n",
    "## TODO ##\n",
    "# use sklearn Lasso (linear regression with L1 Norm) to fit the data \n",
    "# normalization trick ;)\n",
    "\n",
    "model_L1_reg = linear_model.Lasso(alpha=0.1,normalize=True).fit(X_train,y_train)"
   ]
  },
  {
   "cell_type": "code",
   "execution_count": null,
   "metadata": {
    "colab": {
     "base_uri": "https://localhost:8080/",
     "height": 358
    },
    "id": "LOYlQsU5MA-K",
    "outputId": "ba7f516d-9279-4307-ad9c-a114411acea1"
   },
   "outputs": [
    {
     "name": "stdout",
     "output_type": "stream",
     "text": [
      "Training error (rmse): 2.0777541703020583\n",
      "Testing error (rmse): 2.1040525805013406\n"
     ]
    },
    {
     "data": {
      "image/png": "[encoded data removed]",
      "text/plain": [
       "<Figure size 432x288 with 1 Axes>"
      ]
     },
     "metadata": {
      "needs_background": "light"
     },
     "output_type": "display_data"
    },
    {
     "name": "stdout",
     "output_type": "stream",
     "text": [
      "Polynomial coefficients\n",
      "[13.74644634544564, 0.0, -0.9170103618948335, 0.0631623853150612, -0.0, 0.0, -0.0, 0.0, -0.0, 0.0, -0.0, 0.0, -0.0, 0.0, -0.0, 0.0, -0.0, 0.0, -0.0, 0.0, -0.0, 0.0, -0.0, 0.0, -0.0, 0.0, -0.0, 0.0, -0.0, 0.0, -0.0, 0.0, -0.0, 0.0, -0.0, 0.0, -0.0, 0.0, -0.0, 0.0, -0.0, 0.0, -0.0, 0.0, -0.0, 0.0, -0.0, 0.0, -0.0, 0.0, -0.0, 0.0, -0.0, 0.0, -0.0, 0.0, -0.0, 0.0, -0.0, 0.0, -0.0, 0.0, -0.0, 0.0, -0.0, 0.0, -0.0, 0.0, -0.0, 0.0, -0.0, 0.0, -0.0, 0.0, -0.0, 0.0, -0.0, 0.0, -0.0, 0.0, -0.0, 0.0, -0.0, 0.0, -0.0, 0.0, -0.0, 0.0, -0.0, 0.0, -0.0, 0.0, -0.0, 0.0, -0.0, 0.0, -0.0, 0.0, -0.0, 0.0, -0.0, 0.0, -0.0, 0.0, -0.0, 0.0, -0.0, 0.0, -0.0, 0.0, -0.0, 0.0, -0.0, 0.0, -0.0, 0.0, -0.0, 0.0, -0.0, 0.0, -0.0, 0.0, -0.0, 0.0, -0.0, 0.0, -0.0, 0.0, -0.0, 0.0, -0.0, 0.0, -0.0, 0.0, -0.0, 0.0, -0.0, 0.0, -0.0, 0.0, -0.0, 0.0, -0.0, 0.0, -0.0, 0.0, -0.0, 0.0, -0.0, 0.0, -0.0, 0.0, -0.0, 0.0, -0.0, 0.0, -0.0, 0.0, -0.0, 0.0, -0.0, 0.0, -0.0, 0.0, -0.0, 0.0, -0.0, 0.0, -0.0, 0.0, -0.0, 0.0, -0.0, 0.0, -0.0, 0.0, -0.0, 0.0, -0.0, 0.0, -0.0, 0.0, -0.0, 0.0, -0.0, 0.0, -0.0, 0.0, -0.0, 0.0, -0.0, 0.0, -0.0, 0.0, -0.0, 0.0, -0.0, 0.0, -0.0, 0.0, -0.0]\n"
     ]
    }
   ],
   "source": [
    "# will make weights = 0 so make only 2nd degree function\n",
    "display_results(model_L1_reg)"
   ]
  },
  {
   "cell_type": "markdown",
   "metadata": {
    "id": "21v4zgmbMA-K"
   },
   "source": [
    "## Training a polynomial regression model with L2 regularization\n",
    "ridge"
   ]
  },
  {
   "cell_type": "code",
   "execution_count": null,
   "metadata": {
    "colab": {
     "base_uri": "https://localhost:8080/"
    },
    "id": "MrSeiPXPMA-K",
    "outputId": "6b46f7ff-d7a3-46ed-eeb5-6fad1e3e0c7e"
   },
   "outputs": [
    {
     "name": "stderr",
     "output_type": "stream",
     "text": [
      "/usr/local/lib/python3.7/dist-packages/sklearn/linear_model/_base.py:145: FutureWarning: 'normalize' was deprecated in version 1.0 and will be removed in 1.2.\n",
      "If you wish to scale the data, use Pipeline with a StandardScaler in a preprocessing stage. To reproduce the previous behavior:\n",
      "\n",
      "from sklearn.pipeline import make_pipeline\n",
      "\n",
      "model = make_pipeline(StandardScaler(with_mean=False), Ridge())\n",
      "\n",
      "If you wish to pass a sample_weight parameter, you need to pass it as a fit parameter to each step of the pipeline as follows:\n",
      "\n",
      "kwargs = {s[0] + '__sample_weight': sample_weight for s in model.steps}\n",
      "model.fit(X, y, **kwargs)\n",
      "\n",
      "Set parameter alpha to: original_alpha * n_samples. \n",
      "  FutureWarning,\n"
     ]
    }
   ],
   "source": [
    "from sklearn import linear_model\n",
    "## TODO ##\n",
    "# use sklearn Ridge (linear regression with L2 Norm) to fit the data \n",
    "# normalization trick ;)\n",
    "\n",
    "model_L2_reg = linear_model.Ridge(alpha=0.1,normalize=True).fit(X_train,y_train)"
   ]
  },
  {
   "cell_type": "code",
   "execution_count": null,
   "metadata": {
    "colab": {
     "base_uri": "https://localhost:8080/",
     "height": 358
    },
    "id": "TyLoFFM_MA-L",
    "outputId": "467df4e4-cf02-4244-d00d-a21c854cb2c1"
   },
   "outputs": [
    {
     "name": "stdout",
     "output_type": "stream",
     "text": [
      "Training error (rmse): 2.0652943594315163\n",
      "Testing error (rmse): 2.160632217938452\n"
     ]
    },
    {
     "data": {
      "image/png": "[encoded data removed]",
      "text/plain": [
       "<Figure size 432x288 with 1 Axes>"
      ]
     },
     "metadata": {
      "needs_background": "light"
     },
     "output_type": "display_data"
    },
    {
     "name": "stdout",
     "output_type": "stream",
     "text": [
      "Polynomial coefficients\n",
      "[13.118649654871664, 0.3596863287000029, -0.5748947790398047, 0.01689571003499322, -0.014114800211739149, 0.0008183339936526315, -0.0002838742418005904, 3.258519086408096e-05, -4.432511390388276e-06, 1.0940139393775587e-06, -2.3868531880393042e-08, 3.2344796333522814e-08, 2.1994694684771427e-09, 8.5555377155289e-10, 1.473525388340882e-10, 1.9704030593350564e-11, 6.833142807534982e-12, 3.4240363809359116e-13, 2.8100396213906236e-13, 6.04860869370592e-16, 1.0952111140579826e-14, -3.4874426226018884e-16, 4.156499155936264e-16, -2.4296043119724362e-17, 1.5564555815079104e-17, -1.250270171275662e-18, 5.791444400999808e-19, -5.718138318224563e-20, 2.1496609709457898e-20, -2.458471703629197e-21, 7.976407391704768e-22, -1.0182461478933798e-22, 2.961845971029144e-23, -4.114695865833816e-24, 1.101083394903202e-24, -1.6342214137441264e-25, 4.098230539858039e-26, -6.408398944751007e-27, 1.5268892095972371e-27, -2.4885099648914996e-28, 5.692664091478334e-29, -9.58837148874248e-30, 2.123028953875609e-30, -3.6707921005119113e-31, 7.916887248260522e-32, -1.3976429184572677e-32, 2.9507792498648792e-33, -5.295888507967553e-34, 1.0988337577778885e-34, -1.997925178966557e-35, 4.0867111373676806e-36, -7.5065072808446464e-37, 1.517395860908375e-37, -2.8091717002189597e-38, 5.622669275887058e-39, -1.0471648886553931e-39, 2.0784299292582954e-40, -3.887933447780599e-41, 7.661206266281508e-42, -1.437530724313295e-42, 2.8146856881818075e-43, -5.29167205907256e-44, 1.030171668601957e-44, -1.9385613604533897e-45, 3.753837010553379e-46, -7.064026494180117e-47, 1.3608669285228813e-47, -2.558674484623643e-48, 4.903980348432132e-49, -9.204066180163634e-50, 1.754672293529389e-50, -3.284247529362774e-51, 6.2250434564562034e-52, -1.1606547380395318e-52, 2.1856240864140753e-53, -4.05373798349728e-54, 7.575106001644616e-55, -1.3950782833034055e-55, 2.5823652648459453e-56, -4.710307266371674e-57, 8.612811821821206e-58, -1.549990029302902e-58, 2.7869069232729154e-59, -4.917203989240485e-60, 8.623942228084232e-61, -1.4745759472799585e-61, 2.481998238475494e-62, -4.009337185469637e-63, 6.21835185293124e-64, -8.790633271361838e-65, 1.0650710627228172e-65, -7.364704437740805e-67, -1.1928571623908214e-67, 7.716534958339736e-68, -2.5680600501082404e-68, 7.176352300305558e-69, -1.8290178453361248e-69, 4.439271747061452e-70, -1.0390998575634193e-70, 2.3774788471357126e-71, -5.335805898944054e-72, 1.1818559412154977e-72, -2.5867600507355564e-73, 5.613234715945443e-74, -1.2082963268608219e-74, 2.5852285467461577e-75, -5.499360040851115e-76, 1.1645678009769526e-76, -2.4554501407303187e-77, 5.159183169484713e-78, -1.080354498792786e-78, 2.256024204684598e-79, -4.6984419178331475e-80, 9.762919859007306e-81, -2.0242076251624745e-81, 4.1890311780130434e-82, -8.653353864896097e-83, 1.7847086228224586e-83, -3.675257894234792e-84, 7.55825525025845e-85, -1.5523559820284968e-85, 3.184603808255147e-86, -6.525805919974975e-87, 1.3358976490270773e-87, -2.732062692403485e-88, 5.58242388895369e-89, -1.139687683233224e-89, 2.324924960257799e-90, -4.739216607523763e-91, 9.653892313391769e-92, -1.965212709932946e-92, 3.998043013751019e-93, -8.128823984566622e-94, 1.6518348742989756e-94, -3.354861136536905e-95, 6.8102833880445475e-96, -1.3818083231110068e-96, 2.802425367429461e-97, -5.681097491445209e-98, 1.1512041401236251e-98, -2.331856433085506e-99, 4.72160071271945e-100, -9.556995589681583e-101, 1.933773884998538e-101, -3.911543811966914e-102, 7.909617431397047e-103, -1.598942920913078e-103, 3.2313681104249286e-104, -6.52861120937658e-105, 1.3186854236082374e-105, -2.662882914191532e-106, 5.375984060628528e-107, -1.0850829335624053e-107, 2.1896315473693178e-108, -4.417595556976206e-109, 8.910690105279713e-110, -1.797010144826808e-110, 3.623321186510725e-111, -7.304378747037604e-112, 1.4722544694129861e-112, -2.966937463633177e-113, 5.9780912772651966e-114, -1.2043365341143907e-114, 2.425866132778467e-115, -4.885643487336004e-116, 9.83818422216166e-117, -1.9808358821027926e-117, 3.987718364380274e-118, -8.026844689422052e-119, 1.6155170349983574e-119, -3.251070047385027e-120, 6.541705127988476e-121, -1.3161552366679863e-121, 2.647746445939254e-122, -5.325989827552992e-123, 1.0712243080807083e-123, -2.1543589887996486e-124, 4.332261551883059e-125, -8.711070328468724e-126, 1.751418365353491e-126, -3.5210405427086395e-127, 7.07808995400239e-128, -1.422742113619068e-128, 2.8595812943092337e-129, -5.747062379523748e-130, 1.1549351370743706e-130, -2.320804060142851e-131, 4.6632586109755135e-132, -9.369395706508646e-133, 1.8823726231656056e-133, -3.7815722305662997e-134, 7.596487180876007e-135, -1.5259054282903776e-135, 3.0649090587392865e-136, -6.155785435172913e-137, 1.23630600002352e-137, -2.4828231961086875e-138, 4.985900356053247e-139, -1.0011981210951214e-139, 2.010368699105664e-140, -4.0365586231756865e-141]\n"
     ]
    }
   ],
   "source": [
    "display_results(model_L2_reg)"
   ]
  },
  {
   "cell_type": "markdown",
   "metadata": {
    "id": "1EsLoBMqMA-L"
   },
   "source": [
    "## Viewing the predictions in the testing set"
   ]
  },
  {
   "cell_type": "code",
   "execution_count": null,
   "metadata": {
    "colab": {
     "base_uri": "https://localhost:8080/",
     "height": 300
    },
    "id": "TPp6zYZ6MA-L",
    "outputId": "95f61f11-464e-47e9-cd44-23dbf8c62a85"
   },
   "outputs": [
    {
     "data": {
      "text/html": [
       "\n",
       "  <div id=\"df-5cc7997f-0ddb-47d0-a877-201776483936\">\n",
       "    <div class=\"colab-df-container\">\n",
       "      <div>\n",
       "<style scoped>\n",
       "    .dataframe tbody tr th:only-of-type {\n",
       "        vertical-align: middle;\n",
       "    }\n",
       "\n",
       "    .dataframe tbody tr th {\n",
       "        vertical-align: top;\n",
       "    }\n",
       "\n",
       "    .dataframe thead th {\n",
       "        text-align: right;\n",
       "    }\n",
       "</style>\n",
       "<table border=\"1\" class=\"dataframe\">\n",
       "  <thead>\n",
       "    <tr style=\"text-align: right;\">\n",
       "      <th></th>\n",
       "      <th>x</th>\n",
       "      <th>y</th>\n",
       "      <th>No reg</th>\n",
       "      <th>L1 reg</th>\n",
       "      <th>L2 reg</th>\n",
       "    </tr>\n",
       "  </thead>\n",
       "  <tbody>\n",
       "    <tr>\n",
       "      <th>0</th>\n",
       "      <td>-3.132705</td>\n",
       "      <td>3.308124</td>\n",
       "      <td>3.684070e+06</td>\n",
       "      <td>2.805199</td>\n",
       "      <td>3.776291</td>\n",
       "    </tr>\n",
       "    <tr>\n",
       "      <th>1</th>\n",
       "      <td>-2.410832</td>\n",
       "      <td>4.690236</td>\n",
       "      <td>-1.212660e+01</td>\n",
       "      <td>7.531645</td>\n",
       "      <td>8.050094</td>\n",
       "    </tr>\n",
       "    <tr>\n",
       "      <th>2</th>\n",
       "      <td>1.108870</td>\n",
       "      <td>16.141450</td>\n",
       "      <td>1.395800e+01</td>\n",
       "      <td>12.705017</td>\n",
       "      <td>12.813209</td>\n",
       "    </tr>\n",
       "    <tr>\n",
       "      <th>3</th>\n",
       "      <td>-2.181622</td>\n",
       "      <td>8.160123</td>\n",
       "      <td>5.709923e+02</td>\n",
       "      <td>8.726122</td>\n",
       "      <td>9.020153</td>\n",
       "    </tr>\n",
       "    <tr>\n",
       "      <th>4</th>\n",
       "      <td>4.130111</td>\n",
       "      <td>4.299534</td>\n",
       "      <td>-2.643063e+09</td>\n",
       "      <td>2.554086</td>\n",
       "      <td>2.665980</td>\n",
       "    </tr>\n",
       "    <tr>\n",
       "      <th>5</th>\n",
       "      <td>4.097463</td>\n",
       "      <td>5.933186</td>\n",
       "      <td>-1.966956e+09</td>\n",
       "      <td>2.695714</td>\n",
       "      <td>2.840458</td>\n",
       "    </tr>\n",
       "    <tr>\n",
       "      <th>6</th>\n",
       "      <td>-1.898524</td>\n",
       "      <td>8.956020</td>\n",
       "      <td>-1.541126e+02</td>\n",
       "      <td>10.008957</td>\n",
       "      <td>10.027114</td>\n",
       "    </tr>\n",
       "    <tr>\n",
       "      <th>7</th>\n",
       "      <td>4.021660</td>\n",
       "      <td>2.454299</td>\n",
       "      <td>-8.776277e+08</td>\n",
       "      <td>3.023370</td>\n",
       "      <td>3.255102</td>\n",
       "    </tr>\n",
       "  </tbody>\n",
       "</table>\n",
       "</div>\n",
       "      <button class=\"colab-df-convert\" onclick=\"convertToInteractive('df-5cc7997f-0ddb-47d0-a877-201776483936')\"\n",
       "              title=\"Convert this dataframe to an interactive table.\"\n",
       "              style=\"display:none;\">\n",
       "        \n",
       "  <svg xmlns=\"http://www.w3.org/2000/svg\" height=\"24px\"viewBox=\"0 0 24 24\"\n",
       "       width=\"24px\">\n",
       "    <path d=\"M0 0h24v24H0V0z\" fill=\"none\"/>\n",
       "    <path d=\"M18.56 5.44l.94 2.06.94-2.06 2.06-.94-2.06-.94-.94-2.06-.94 2.06-2.06.94zm-11 1L8.5 8.5l.94-2.06 2.06-.94-2.06-.94L8.5 2.5l-.94 2.06-2.06.94zm10 10l.94 2.06.94-2.06 2.06-.94-2.06-.94-.94-2.06-.94 2.06-2.06.94z\"/><path d=\"M17.41 7.96l-1.37-1.37c-.4-.4-.92-.59-1.43-.59-.52 0-1.04.2-1.43.59L10.3 9.45l-7.72 7.72c-.78.78-.78 2.05 0 2.83L4 21.41c.39.39.9.59 1.41.59.51 0 1.02-.2 1.41-.59l7.78-7.78 2.81-2.81c.8-.78.8-2.07 0-2.86zM5.41 20L4 18.59l7.72-7.72 1.47 1.35L5.41 20z\"/>\n",
       "  </svg>\n",
       "      </button>\n",
       "      \n",
       "  <style>\n",
       "    .colab-df-container {\n",
       "      display:flex;\n",
       "      flex-wrap:wrap;\n",
       "      gap: 12px;\n",
       "    }\n",
       "\n",
       "    .colab-df-convert {\n",
       "      background-color: #E8F0FE;\n",
       "      border: none;\n",
       "      border-radius: 50%;\n",
       "      cursor: pointer;\n",
       "      display: none;\n",
       "      fill: #1967D2;\n",
       "      height: 32px;\n",
       "      padding: 0 0 0 0;\n",
       "      width: 32px;\n",
       "    }\n",
       "\n",
       "    .colab-df-convert:hover {\n",
       "      background-color: #E2EBFA;\n",
       "      box-shadow: 0px 1px 2px rgba(60, 64, 67, 0.3), 0px 1px 3px 1px rgba(60, 64, 67, 0.15);\n",
       "      fill: #174EA6;\n",
       "    }\n",
       "\n",
       "    [theme=dark] .colab-df-convert {\n",
       "      background-color: #3B4455;\n",
       "      fill: #D2E3FC;\n",
       "    }\n",
       "\n",
       "    [theme=dark] .colab-df-convert:hover {\n",
       "      background-color: #434B5C;\n",
       "      box-shadow: 0px 1px 3px 1px rgba(0, 0, 0, 0.15);\n",
       "      filter: drop-shadow(0px 1px 2px rgba(0, 0, 0, 0.3));\n",
       "      fill: #FFFFFF;\n",
       "    }\n",
       "  </style>\n",
       "\n",
       "      <script>\n",
       "        const buttonEl =\n",
       "          document.querySelector('#df-5cc7997f-0ddb-47d0-a877-201776483936 button.colab-df-convert');\n",
       "        buttonEl.style.display =\n",
       "          google.colab.kernel.accessAllowed ? 'block' : 'none';\n",
       "\n",
       "        async function convertToInteractive(key) {\n",
       "          const element = document.querySelector('#df-5cc7997f-0ddb-47d0-a877-201776483936');\n",
       "          const dataTable =\n",
       "            await google.colab.kernel.invokeFunction('convertToInteractive',\n",
       "                                                     [key], {});\n",
       "          if (!dataTable) return;\n",
       "\n",
       "          const docLinkHtml = 'Like what you see? Visit the ' +\n",
       "            '<a target=\"_blank\" href=https://colab.research.google.com/notebooks/data_table.ipynb>data table notebook</a>'\n",
       "            + ' to learn more about interactive tables.';\n",
       "          element.innerHTML = '';\n",
       "          dataTable['output_type'] = 'display_data';\n",
       "          await google.colab.output.renderOutput(dataTable, element);\n",
       "          const docLink = document.createElement('div');\n",
       "          docLink.innerHTML = docLinkHtml;\n",
       "          element.appendChild(docLink);\n",
       "        }\n",
       "      </script>\n",
       "    </div>\n",
       "  </div>\n",
       "  "
      ],
      "text/plain": [
       "          x          y        No reg     L1 reg     L2 reg\n",
       "0 -3.132705   3.308124  3.684070e+06   2.805199   3.776291\n",
       "1 -2.410832   4.690236 -1.212660e+01   7.531645   8.050094\n",
       "2  1.108870  16.141450  1.395800e+01  12.705017  12.813209\n",
       "3 -2.181622   8.160123  5.709923e+02   8.726122   9.020153\n",
       "4  4.130111   4.299534 -2.643063e+09   2.554086   2.665980\n",
       "5  4.097463   5.933186 -1.966956e+09   2.695714   2.840458\n",
       "6 -1.898524   8.956020 -1.541126e+02  10.008957  10.027114\n",
       "7  4.021660   2.454299 -8.776277e+08   3.023370   3.255102"
      ]
     },
     "metadata": {},
     "output_type": "display_data"
    }
   ],
   "source": [
    "import pandas as pd\n",
    "from IPython.display import display\n",
    "predictions={}\n",
    "predictions ['x']=X_test[:,0]\n",
    "predictions ['y']=y_test\n",
    "predictions['No reg'] = model_no_reg.predict(X_test)\n",
    "predictions['L1 reg'] = model_L1_reg.predict(X_test)\n",
    "predictions['L2 reg'] = model_L2_reg.predict(X_test)\n",
    "predictions=pd.DataFrame.from_dict(predictions)\n",
    "display(predictions)"
   ]
  },
  {
   "cell_type": "markdown",
   "metadata": {
    "id": "0O_Ha6Nbcqwr"
   },
   "source": [
    "- if u know that there are features not imp  use l1 norm\n",
    "- if u don't know that there are features not imp or all imp use l2 norm\n",
    "- elastic in between "
   ]
  },
  {
   "cell_type": "code",
   "execution_count": null,
   "metadata": {
    "id": "zg1OkRqTdJ6D"
   },
   "outputs": [],
   "source": []
  }
 ],
 "metadata": {
  "colab": {
   "collapsed_sections": [],
   "name": "Polynomial_regression_regularization ML1.ipynb",
   "provenance": []
  },
  "kernelspec": {
   "display_name": "Python 3",
   "language": "python",
   "name": "python3"
  },
  "language_info": {
   "codemirror_mode": {
    "name": "ipython",
    "version": 3
   },
   "file_extension": ".py",
   "mimetype": "text/x-python",
   "name": "python",
   "nbconvert_exporter": "python",
   "pygments_lexer": "ipython3",
   "version": "3.7.4"
  }
 },
 "nbformat": 4,
 "nbformat_minor": 1
}
