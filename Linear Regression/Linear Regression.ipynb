{
 "cells": [
  {
   "cell_type": "markdown",
   "metadata": {
    "id": "DX4r4QJAjKBA"
   },
   "source": [
    "# Chapter 3: Linear Regression for a housing dataset\n",
    "\n",
    "### Importing the necessary packages"
   ]
  },
  {
   "cell_type": "code",
   "execution_count": null,
   "metadata": {
    "id": "2Lp-pE1xjKBG"
   },
   "outputs": [],
   "source": [
    "from matplotlib import pyplot as plt\n",
    "import numpy as np\n",
    "import random\n",
    "import utils"
   ]
  },
  {
   "cell_type": "markdown",
   "metadata": {
    "id": "VzQuZ_CyjKBH"
   },
   "source": [
    "### Defining and plotting our dataset"
   ]
  },
  {
   "cell_type": "code",
   "execution_count": null,
   "metadata": {
    "colab": {
     "base_uri": "https://localhost:8080/"
    },
    "id": "TW-HBsNzjKBH",
    "outputId": "1a73fffe-96dc-47f3-83e9-f3338759d910"
   },
   "outputs": [
    {
     "name": "stdout",
     "output_type": "stream",
     "text": [
      "[1 2 3 5 6 7]\n",
      "[155 197 244 356 407 448]\n"
     ]
    }
   ],
   "source": [
    "features = np.array([1,2,3,5,6,7])\n",
    "labels = np.array([155, 197, 244, 356,407,448])\n",
    "\n",
    "print(features)\n",
    "print(labels)"
   ]
  },
  {
   "cell_type": "code",
   "execution_count": null,
   "metadata": {
    "colab": {
     "base_uri": "https://localhost:8080/",
     "height": 279
    },
    "id": "pkC2jEKcjKBI",
    "outputId": "ab744672-ee2c-4e0a-b2c5-9a1a4e125be8"
   },
   "outputs": [
    {
     "data": {
      "image/png": "[encoded data removed]",
      "text/plain": [
       "<Figure size 432x288 with 1 Axes>"
      ]
     },
     "metadata": {
      "needs_background": "light"
     },
     "output_type": "display_data"
    }
   ],
   "source": [
    "utils.plot_points(features, labels)"
   ]
  },
  {
   "cell_type": "markdown",
   "metadata": {
    "id": "50-WodUTjKBJ"
   },
   "source": [
    "### Coding the tricks\n",
    "\n",
    "- Simple trick\n",
    "- Absolute trick\n",
    "- Square trick"
   ]
  },
  {
   "cell_type": "code",
   "execution_count": null,
   "metadata": {
    "id": "XgeArBsYjKBJ"
   },
   "outputs": [],
   "source": [
    "def simple_trick(base_price, price_per_room, num_rooms, price):\n",
    "    small_random_1 = random.random()*0.1\n",
    "    small_random_2 = random.random()*0.1\n",
    "    predicted_price = base_price + price_per_room*num_rooms\n",
    "    if price > predicted_price and num_rooms > 0:\n",
    "        price_per_room += small_random_1\n",
    "        base_price += small_random_2\n",
    "    if price > predicted_price and num_rooms < 0:\n",
    "        price_per_room -= small_random_1\n",
    "        base_price += small_random_2\n",
    "    if price < predicted_price and num_rooms > 0:\n",
    "        price_per_room -= small_random_1\n",
    "        base_price -= small_random_2\n",
    "    if price < predicted_price and num_rooms < 0:\n",
    "        price_per_room -= small_random_1\n",
    "        base_price += small_random_2\n",
    "    return price_per_room, base_price"
   ]
  },
  {
   "cell_type": "code",
   "execution_count": null,
   "metadata": {
    "id": "sKFJi0SDjKBK"
   },
   "outputs": [],
   "source": [
    "def square_trick(base_price, price_per_room, num_rooms, price, learning_rate):\n",
    "    # input : line and point \n",
    "    # point : feature = num_room , label = price\n",
    "    # line : m = price_per_room , r = num_rooms , bias  = base_price\n",
    "    ## TODO ##\n",
    "    #implement square_trick and return the new price_per_room and base_price\n",
    "    # calculate the predicted price then calculate the new price_per_room and base_price\n",
    "\n",
    "    price_predict = (price_per_room * num_rooms) + base_price\n",
    "    base_price = base_price + (learning_rate * (price - price_predict) ) \n",
    "    price_per_room = price_per_room + ( learning_rate * num_rooms * (price - price_predict) )\n",
    "\n",
    "\n",
    "\n",
    "    return price_per_room, base_price"
   ]
  },
  {
   "cell_type": "code",
   "execution_count": null,
   "metadata": {
    "id": "KDpRByp4jKBK"
   },
   "outputs": [],
   "source": [
    "def absolute_trick(base_price, price_per_room, num_rooms, price, learning_rate):\n",
    "    ## TODO ##\n",
    "    #implement absolute_trick and return the new price_per_room and base_price\n",
    "    # calculate the predicted price then calculate the new price_per_room and base_price\n",
    "\n",
    "    price_predict = (price_per_room * num_rooms) + base_price\n",
    "\n",
    "    if (price > price_predict):\n",
    "      base_price = base_price + learning_rate  \n",
    "      price_per_room = price_per_room + ( learning_rate * num_rooms )\n",
    "    elif (price < price_predict):\n",
    "      base_price = base_price - learning_rate  \n",
    "      price_per_room = price_per_room - ( learning_rate * num_rooms )\n",
    "\n",
    "\n",
    "    return price_per_room, base_price"
   ]
  },
  {
   "cell_type": "markdown",
   "metadata": {
    "id": "Uak0SEZbjKBL"
   },
   "source": [
    "### Running the linear regression algorithm\n",
    "\n",
    "The linear regression algorithm consists of:\n",
    "- Starting with random weights\n",
    "- Iterating the square (or simple, or absolute) trick many times."
   ]
  },
  {
   "cell_type": "code",
   "execution_count": null,
   "metadata": {
    "colab": {
     "base_uri": "https://localhost:8080/",
     "height": 335
    },
    "id": "j73km5P1jKBL",
    "outputId": "3da73f13-9870-4a02-e452-e9eb8860c89a"
   },
   "outputs": [
    {
     "name": "stdout",
     "output_type": "stream",
     "text": [
      "Price per room: 51.04430678220095\n",
      "Base price: 91.59448307644864\n"
     ]
    },
    {
     "data": {
      "text/plain": [
       "(51.04430678220095, 91.59448307644864)"
      ]
     },
     "execution_count": 24,
     "metadata": {},
     "output_type": "execute_result"
    },
    {
     "data": {
      "image/png": "[encoded data removed]",
      "text/plain": [
       "<Figure size 432x288 with 1 Axes>"
      ]
     },
     "metadata": {
      "needs_background": "light"
     },
     "output_type": "display_data"
    }
   ],
   "source": [
    "import random as rd\n",
    "\n",
    "# We set the random seed in order to always get the same results.\n",
    "random.seed(0)\n",
    "\n",
    "def linear_regression(features, labels, learning_rate=0.01, epochs = 1000):\n",
    "    price_per_room =  random.random() # start with random weight\n",
    "    base_price =  random.random() # start with random bias\n",
    "    ## TODO ##\n",
    "    # for this number of epochs \n",
    "    # get a random datasample of our dataset(x,y)\n",
    "    # using the selected datasample use square_trick fn or absolute_trick fn to update price_per_room and base_price\n",
    "\n",
    "    for iteration in range(epochs):\n",
    "      i = random.randint(0, len(features)-1)\n",
    "      num_rooms = features[i]\n",
    "      price = labels[i]\n",
    "      price_per_room , base_price = square_trick(base_price, price_per_room, num_rooms, price, learning_rate)\n",
    "\n",
    "\n",
    "    utils.draw_line(price_per_room, base_price, 'black', starting=0, ending=8)\n",
    "    utils.plot_points(features, labels)\n",
    "    print('Price per room:', price_per_room)\n",
    "    print('Base price:', base_price)\n",
    "    return price_per_room, base_price\n",
    "\n",
    "# This line is for the x-axis to appear in the figure\n",
    "plt.ylim(0,500)\n",
    "\n",
    "linear_regression(features, labels, learning_rate = 0.01, epochs = 1000)"
   ]
  },
  {
   "cell_type": "code",
   "execution_count": null,
   "metadata": {
    "colab": {
     "base_uri": "https://localhost:8080/",
     "height": 335
    },
    "id": "6DFNzG1UrCRi",
    "outputId": "c29b8824-e76c-4f47-ab08-4ccd332543ed"
   },
   "outputs": [
    {
     "name": "stdout",
     "output_type": "stream",
     "text": [
      "Price per room: 51.204421851429295\n",
      "Base price: 97.19795440295313\n"
     ]
    },
    {
     "data": {
      "text/plain": [
       "(51.204421851429295, 97.19795440295313)"
      ]
     },
     "execution_count": 25,
     "metadata": {},
     "output_type": "execute_result"
    },
    {
     "data": {
      "image/png": "[encoded data removed]",
      "text/plain": [
       "<Figure size 432x288 with 1 Axes>"
      ]
     },
     "metadata": {
      "needs_background": "light"
     },
     "output_type": "display_data"
    }
   ],
   "source": [
    "import random as rd\n",
    "\n",
    "# We set the random seed in order to always get the same results.\n",
    "random.seed(0)\n",
    "\n",
    "def linear_regression(features, labels, learning_rate=0.01, epochs = 1000):\n",
    "    price_per_room =  random.random() # start with random weight\n",
    "    base_price =  random.random() # start with random bias\n",
    "    ## TODO ##\n",
    "    # for this number of epochs \n",
    "    # get a random datasample of our dataset(x,y)\n",
    "    # using the selected datasample use square_trick fn or absolute_trick fn to update price_per_room and base_price\n",
    "\n",
    "    for iteration in range(epochs):\n",
    "      i = random.randint(0, len(features)-1)\n",
    "      num_rooms = features[i]\n",
    "      price = labels[i]\n",
    "      price_per_room, base_price = absolute_trick(base_price, price_per_room, num_rooms, price, learning_rate)\n",
    "\n",
    "\n",
    "    utils.draw_line(price_per_room, base_price, 'black', starting=0, ending=8)\n",
    "    utils.plot_points(features, labels)\n",
    "    print('Price per room:', price_per_room)\n",
    "    print('Base price:', base_price)\n",
    "    return price_per_room, base_price\n",
    "\n",
    "# This line is for the x-axis to appear in the figure\n",
    "plt.ylim(0,500)\n",
    "\n",
    "linear_regression(features, labels, learning_rate = 0.01, epochs = 100000)"
   ]
  },
  {
   "cell_type": "markdown",
   "metadata": {
    "id": "IEZJnQv_jKBM"
   },
   "source": [
    "### Root mean squared error function"
   ]
  },
  {
   "cell_type": "code",
   "execution_count": null,
   "metadata": {
    "id": "8yIxnLbFjKBM"
   },
   "outputs": [],
   "source": [
    "# The root mean square error function\n",
    "def rmse(labels, predictions):\n",
    "    ## TODO ##\n",
    "    # calculate the root meen square error between the labels and predictions\n",
    "    \n",
    "    n = len(labels)\n",
    "    error = np.sqrt((1/n) * np.sum((predictions-labels)**2))\n",
    "\n",
    "\n",
    "\n",
    "    return error"
   ]
  },
  {
   "cell_type": "markdown",
   "metadata": {
    "id": "nh29EinojKBM"
   },
   "source": [
    "### Plotting the error function"
   ]
  },
  {
   "cell_type": "code",
   "execution_count": null,
   "metadata": {
    "colab": {
     "base_uri": "https://localhost:8080/",
     "height": 579
    },
    "id": "O3u1TVZLjKBN",
    "outputId": "8fdc8aa6-74a7-4708-c5e9-7fbd7a06e74e"
   },
   "outputs": [
    {
     "name": "stdout",
     "output_type": "stream",
     "text": [
      "Price per room: 50.65601970828071\n",
      "Base price: 99.05698535518609\n"
     ]
    },
    {
     "data": {
      "image/png": "[encoded data removed]",
      "text/plain": [
       "<Figure size 432x288 with 1 Axes>"
      ]
     },
     "metadata": {
      "needs_background": "light"
     },
     "output_type": "display_data"
    },
    {
     "data": {
      "image/png": "[encoded data removed]",
      "text/plain": [
       "<Figure size 432x288 with 1 Axes>"
      ]
     },
     "metadata": {
      "needs_background": "light"
     },
     "output_type": "display_data"
    },
    {
     "data": {
      "text/plain": [
       "(50.65601970828071, 99.05698535518609)"
      ]
     },
     "execution_count": 38,
     "metadata": {},
     "output_type": "execute_result"
    }
   ],
   "source": [
    "def linear_regression(features, labels, learning_rate=0.01, epochs = 1000):\n",
    "    price_per_room = random.random()\n",
    "    base_price = random.random()\n",
    "    errors = ==\n",
    "    for i in range(epochs):\n",
    "        predictions = features*price_per_room+base_price\n",
    "        errors.append(rmse(labels, predictions))\n",
    "        i = random.randint(0, len(features)-1)\n",
    "        num_rooms = features[i]\n",
    "        price = labels[i]\n",
    "        # Uncomment one of the following 3 lines to use the simple, the absolute, or the square trick\n",
    "        #price_per_room, base_price = simple_trick(base_price,\n",
    "        #price_per_room, base_price = absolute_trick(base_price,\n",
    "        price_per_room, base_price = square_trick(base_price,\n",
    "                                                  price_per_room,\n",
    "                                                  num_rooms,\n",
    "                                                  price,\n",
    "                                                  learning_rate=learning_rate)\n",
    "    utils.draw_line(price_per_room, base_price, 'black', starting=0, ending=9)\n",
    "    utils.plot_points(features, labels)\n",
    "    print('Price per room:', price_per_room)\n",
    "    print('Base price:', base_price)\n",
    "    plt.show()\n",
    "    plt.scatter(range(len(errors)), errors)\n",
    "    plt.show()\n",
    "    return price_per_room, base_price\n",
    "\n",
    "linear_regression(features, labels, learning_rate = 0.01, epochs = 10000)"
   ]
  },
  {
   "cell_type": "markdown",
   "metadata": {
    "id": "IFVTjCLMjKBN"
   },
   "source": [
    "### Linear regression using sklearn\n",
    "\n"
   ]
  },
  {
   "cell_type": "code",
   "execution_count": null,
   "metadata": {
    "id": "uIcGvpaI_5NK"
   },
   "outputs": [],
   "source": [
    "from sklearn.linear_model import LinearRegression"
   ]
  },
  {
   "cell_type": "code",
   "execution_count": null,
   "metadata": {
    "colab": {
     "base_uri": "https://localhost:8080/"
    },
    "id": "pRjXCzgqzXKO",
    "outputId": "37e9694a-82f4-4cdc-b8a0-bfe10e036687"
   },
   "outputs": [
    {
     "data": {
      "text/plain": [
       "0.9979437166148433"
      ]
     },
     "execution_count": 88,
     "metadata": {},
     "output_type": "execute_result"
    }
   ],
   "source": [
    "## TODO ##\n",
    "# Use sklearn to implement linear regression that fit our data (features, labels)\n",
    "features = features.reshape(-1,1)\n",
    "LinearReg = LinearRegression().fit(features, labels)\n",
    "LinearReg.score(features, labels)\n"
   ]
  },
  {
   "cell_type": "code",
   "execution_count": null,
   "metadata": {
    "colab": {
     "base_uri": "https://localhost:8080/"
    },
    "id": "q3nEUOfu0OF0",
    "outputId": "ba29df12-aa84-4173-e308-b94410324688"
   },
   "outputs": [
    {
     "name": "stdout",
     "output_type": "stream",
     "text": [
      "[50.39285714]\n",
      "99.59523809523819\n"
     ]
    }
   ],
   "source": [
    "## TODO ##\n",
    "# print the coefficients and bias of this model\n",
    "\n",
    "coeff = LinearReg.coef_\n",
    "bias = LinearReg.intercept_\n",
    "\n",
    "print(coeff)\n",
    "print(bias)"
   ]
  },
  {
   "cell_type": "code",
   "execution_count": null,
   "metadata": {
    "colab": {
     "base_uri": "https://localhost:8080/"
    },
    "id": "gIULdfcT4ZEi",
    "outputId": "29701327-509e-4a90-e051-c1d19c9a2bf8"
   },
   "outputs": [
    {
     "data": {
      "text/plain": [
       "array([301.16666667])"
      ]
     },
     "execution_count": 47,
     "metadata": {},
     "output_type": "execute_result"
    }
   ],
   "source": [
    "## TODO ##\n",
    "# use this model to predict the price of house that contains 4 rooms\n",
    "\n",
    "\n",
    "LinearReg.predict([[4]])\n",
    "# LinearReg.predict(np.array([[4]]))"
   ]
  },
  {
   "cell_type": "markdown",
   "metadata": {
    "id": "4vXa1CM7CDL3"
   },
   "source": [
    "### Normal Equation\n",
    "\n"
   ]
  },
  {
   "cell_type": "code",
   "execution_count": null,
   "metadata": {
    "colab": {
     "base_uri": "https://localhost:8080/"
    },
    "id": "QxK732eRDgIo",
    "outputId": "d481e24a-0ef3-4061-838b-5dfc2ad9e49b"
   },
   "outputs": [
    {
     "data": {
      "text/plain": [
       "(6, 1)"
      ]
     },
     "execution_count": 53,
     "metadata": {},
     "output_type": "execute_result"
    }
   ],
   "source": [
    "features.shape"
   ]
  },
  {
   "cell_type": "code",
   "execution_count": null,
   "metadata": {
    "id": "7BmxKMBQDvzT"
   },
   "outputs": [],
   "source": [
    "import pandas as pd"
   ]
  },
  {
   "cell_type": "code",
   "execution_count": null,
   "metadata": {
    "colab": {
     "base_uri": "https://localhost:8080/"
    },
    "id": "IeYmVYc5EfMG",
    "outputId": "a138b923-2cad-459f-ee64-2173e271b550"
   },
   "outputs": [
    {
     "data": {
      "text/plain": [
       "(6, 1)"
      ]
     },
     "execution_count": 92,
     "metadata": {},
     "output_type": "execute_result"
    }
   ],
   "source": [
    "ones = np.ones((6,1))\n",
    "ones.shape"
   ]
  },
  {
   "cell_type": "code",
   "execution_count": null,
   "metadata": {
    "colab": {
     "base_uri": "https://localhost:8080/"
    },
    "id": "Sm_xFFTFEplD",
    "outputId": "dc046b92-611d-4071-d167-483ec76debaa"
   },
   "outputs": [
    {
     "data": {
      "text/plain": [
       "array([[1., 1.],\n",
       "       [1., 2.],\n",
       "       [1., 3.],\n",
       "       [1., 5.],\n",
       "       [1., 6.],\n",
       "       [1., 7.]])"
      ]
     },
     "execution_count": 89,
     "metadata": {},
     "output_type": "execute_result"
    }
   ],
   "source": [
    "features = np.concatenate((ones,features),axis=1)\n",
    "features"
   ]
  },
  {
   "cell_type": "code",
   "execution_count": null,
   "metadata": {
    "colab": {
     "base_uri": "https://localhost:8080/"
    },
    "id": "LPb-ln5TIiFm",
    "outputId": "01a2e5f5-1b20-41f5-db29-3fb1b6469a91"
   },
   "outputs": [
    {
     "data": {
      "text/plain": [
       "(6, 2)"
      ]
     },
     "execution_count": 90,
     "metadata": {},
     "output_type": "execute_result"
    }
   ],
   "source": [
    "features.shape"
   ]
  },
  {
   "cell_type": "code",
   "execution_count": null,
   "metadata": {
    "id": "DP4V_3KbJz-C"
   },
   "outputs": [],
   "source": [
    "labels = labels.reshape((6,1))"
   ]
  },
  {
   "cell_type": "code",
   "execution_count": null,
   "metadata": {
    "colab": {
     "base_uri": "https://localhost:8080/"
    },
    "id": "ar4JBp-cB4cH",
    "outputId": "cb95c5cb-7b12-4e45-d02e-714db9f94fb1"
   },
   "outputs": [
    {
     "name": "stdout",
     "output_type": "stream",
     "text": [
      "[[99.5952381 ]\n",
      " [50.39285714]]\n"
     ]
    }
   ],
   "source": [
    "def Normal_Equation(features,labels):\n",
    "    ## TODO ##\n",
    "    # Use normal equation to get the weights\n",
    "    # don't forget to concatenate ones to the features\n",
    "\n",
    "    ones = np.ones((6,1))\n",
    "    features = np.concatenate((ones,features),axis=1)\n",
    "    labels = labels.reshape((6,1))\n",
    "    \n",
    "    W = np.linalg.inv(features.T @ features) @ features.T @ labels\n",
    "\n",
    "\n",
    "\n",
    "    return W\n",
    "\n",
    "W = Normal_Equation(features,labels)\n",
    "print(W)"
   ]
  },
  {
   "cell_type": "code",
   "execution_count": null,
   "metadata": {
    "id": "gWcktyyaQz6W"
   },
   "outputs": [],
   "source": []
  }
 ],
 "metadata": {
  "colab": {
   "name": "Coding_linear_regression ML1.ipynb",
   "provenance": []
  },
  "kernelspec": {
   "display_name": "Python 3",
   "language": "python",
   "name": "python3"
  },
  "language_info": {
   "codemirror_mode": {
    "name": "ipython",
    "version": 3
   },
   "file_extension": ".py",
   "mimetype": "text/x-python",
   "name": "python",
   "nbconvert_exporter": "python",
   "pygments_lexer": "ipython3",
   "version": "3.7.4"
  }
 },
 "nbformat": 4,
 "nbformat_minor": 1
}
